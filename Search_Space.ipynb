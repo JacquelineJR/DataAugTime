{
 "cells": [
  {
   "cell_type": "markdown",
   "id": "43fb45f2",
   "metadata": {},
   "source": [
    "This file includes the search space of the models used in manuscript se-2023-01258a (Zhang et al.) that is currently under review"
   ]
  },
  {
   "cell_type": "code",
   "execution_count": 1,
   "id": "2aac7b6a",
   "metadata": {},
   "outputs": [],
   "source": [
    "svm_param_grid = {  \n",
    "    'C' :[0.5,1], \n",
    "    'kernel' : ['linear','poly','rbf','sigmoid'], \n",
    "    'gamma': ['scale','auto'],\n",
    "    'class_weight':['balanced',None]\n",
    "}"
   ]
  },
  {
   "cell_type": "code",
   "execution_count": 2,
   "id": "f9c2a050",
   "metadata": {},
   "outputs": [],
   "source": [
    "lr_param_grid = {  \n",
    "    'penalty' :['l1', 'l2', 'elasticnet', 'none'], \n",
    "    'tol' : [1e-4,1e-3,1e-5], \n",
    "    'C': [1, 0.5, 0 ],\n",
    "    'class_weight':['balanced',None],\n",
    "    'solver':['newton-cg', 'lbfgs', 'liblinear', 'sag', 'saga'],\n",
    "    'multi_class': ['auto', 'ovr', 'multinomial'],  \n",
    "}"
   ]
  },
  {
   "cell_type": "code",
   "execution_count": 3,
   "id": "0125ce6c",
   "metadata": {},
   "outputs": [],
   "source": [
    "dt_param_grid = {  \n",
    "    'criterion' :['gini', 'entropy'], \n",
    "    'max_depth' : [4,5,6,7,8,None], \n",
    "    'max_features': ['auto', 'sqrt', 'log2'],\n",
    "    'class_weight':['balanced','balanced_subsample']\n",
    "}"
   ]
  },
  {
   "cell_type": "code",
   "execution_count": 4,
   "id": "15b21985",
   "metadata": {},
   "outputs": [],
   "source": [
    "rf_param_grid = { \n",
    "    'n_estimators': [80,100,120], \n",
    "    'criterion' :['gini', 'entropy'], \n",
    "    'max_depth' : [3,4,5,6,None], \n",
    "    'max_features': ['auto', 'sqrt', 'log2'],\n",
    "    'class_weight':['balanced','balanced_subsample']\n",
    "}"
   ]
  },
  {
   "cell_type": "code",
   "execution_count": 5,
   "id": "b0c16be8",
   "metadata": {},
   "outputs": [],
   "source": [
    "gb_param_grid = {  \n",
    "    'loss' :['deviance', 'exponential'], \n",
    "    'learning_rate' : [0.01,0.1], \n",
    "    'n_estimators': [10,40,100],\n",
    "    'criterion':['friedman_mse','squared_error','absolute_error'],\n",
    "    'max_depth':[3,8,12],\n",
    "    'max_features':['auto','sqrt','log2']\n",
    "}"
   ]
  },
  {
   "cell_type": "code",
   "execution_count": 6,
   "id": "2e3a069f",
   "metadata": {},
   "outputs": [],
   "source": [
    "xgboost_param_grid = { \n",
    "    'booster':['gbtree','gblinear','dart'],\n",
    "    'tree_method':['auto','exact','approx'],\n",
    "    'max_depth': [10,12,14],\n",
    "    'n_estimators': [6,8,10],\n",
    "    'learning_rate': [0.01,0.03]\n",
    "}"
   ]
  },
  {
   "cell_type": "code",
   "execution_count": null,
   "id": "3c1309c3",
   "metadata": {},
   "outputs": [],
   "source": []
  }
 ],
 "metadata": {
  "kernelspec": {
   "display_name": "Python 3 (ipykernel)",
   "language": "python",
   "name": "python3"
  },
  "language_info": {
   "codemirror_mode": {
    "name": "ipython",
    "version": 3
   },
   "file_extension": ".py",
   "mimetype": "text/x-python",
   "name": "python",
   "nbconvert_exporter": "python",
   "pygments_lexer": "ipython3",
   "version": "3.9.12"
  }
 },
 "nbformat": 4,
 "nbformat_minor": 5
}
