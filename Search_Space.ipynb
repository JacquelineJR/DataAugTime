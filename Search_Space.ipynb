{
 "cells": [
  {
   "cell_type": "code",
   "execution_count": null,
   "id": "16e666e4",
   "metadata": {},
   "outputs": [],
   "source": [
    "This file inlcude "
   ]
  },
  {
   "cell_type": "code",
   "execution_count": null,
   "id": "243a4dae",
   "metadata": {},
   "outputs": [],
   "source": [
    "svm_param_grid = {  \n",
    "    'C' :[0.5,1], \n",
    "    'kernel' : ['linear','poly','rbf','sigmoid'], \n",
    "    'gamma': ['scale','auto'],\n",
    "    'class_weight':['balanced',None]\n",
    "}"
   ]
  },
  {
   "cell_type": "code",
   "execution_count": null,
   "id": "ec70d286",
   "metadata": {},
   "outputs": [],
   "source": [
    "lr_param_grid = {  \n",
    "    'penalty' :['l1', 'l2', 'elasticnet', 'none'], \n",
    "    'tol' : [1e-4,1e-3,1e-5], \n",
    "    'C': [1, 0.5, 0 ],\n",
    "    'class_weight':['balanced',None],\n",
    "    'solver':['newton-cg', 'lbfgs', 'liblinear', 'sag', 'saga'],\n",
    "    'multi_class': ['auto', 'ovr', 'multinomial'],  \n",
    "}"
   ]
  },
  {
   "cell_type": "code",
   "execution_count": null,
   "id": "a504f8b9",
   "metadata": {},
   "outputs": [],
   "source": [
    "dt_param_grid = {  \n",
    "    'criterion' :['gini', 'entropy'], \n",
    "    'max_depth' : [4,5,6,7,8,None], \n",
    "    'max_features': ['auto', 'sqrt', 'log2'],\n",
    "    'class_weight':['balanced','balanced_subsample']\n",
    "}"
   ]
  },
  {
   "cell_type": "code",
   "execution_count": null,
   "id": "57e7863a",
   "metadata": {},
   "outputs": [],
   "source": [
    "rf_param_grid = { \n",
    "    'n_estimators': [80,100,120], \n",
    "    'criterion' :['gini', 'entropy'], \n",
    "    'max_depth' : [3,4,5,6,None], \n",
    "    'max_features': ['auto', 'sqrt', 'log2'],\n",
    "    'class_weight':['balanced','balanced_subsample']\n",
    "}"
   ]
  },
  {
   "cell_type": "code",
   "execution_count": null,
   "id": "0609c9bf",
   "metadata": {},
   "outputs": [],
   "source": [
    "gb_param_grid = {  \n",
    "    'loss' :['deviance', 'exponential'], \n",
    "    'learning_rate' : [0.01,0.1], \n",
    "    'n_estimators': [10,40,100],\n",
    "    'criterion':['friedman_mse','squared_error','absolute_error'],\n",
    "    'max_depth':[3,8,12],\n",
    "    'max_features':['auto','sqrt','log2']\n",
    "}"
   ]
  },
  {
   "cell_type": "code",
   "execution_count": null,
   "id": "3c71373e",
   "metadata": {},
   "outputs": [],
   "source": [
    "xgboost_param_grid = { \n",
    "    'booster':['gbtree','gblinear','dart'],\n",
    "    'tree_method':['auto','exact','approx'],\n",
    "    'max_depth': [10,12,14],\n",
    "    'n_estimators': [6,8,10],\n",
    "    'learning_rate': [0.01,0.03]\n",
    "}"
   ]
  },
  {
   "cell_type": "code",
   "execution_count": null,
   "id": "a601015d",
   "metadata": {},
   "outputs": [],
   "source": []
  }
 ],
 "metadata": {
  "kernelspec": {
   "display_name": "Python 3 (ipykernel)",
   "language": "python",
   "name": "python3"
  },
  "language_info": {
   "codemirror_mode": {
    "name": "ipython",
    "version": 3
   },
   "file_extension": ".py",
   "mimetype": "text/x-python",
   "name": "python",
   "nbconvert_exporter": "python",
   "pygments_lexer": "ipython3",
   "version": "3.9.12"
  }
 },
 "nbformat": 4,
 "nbformat_minor": 5
}
